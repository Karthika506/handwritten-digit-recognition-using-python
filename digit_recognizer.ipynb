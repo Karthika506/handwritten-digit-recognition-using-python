{
 "cells": [
  {
   "cell_type": "code",
   "execution_count": 1,
   "id": "d1e451cf",
   "metadata": {},
   "outputs": [
    {
     "name": "stdout",
     "output_type": "stream",
     "text": [
      "(60000, 28, 28) (60000,)\n",
      "(10000, 28, 28) (10000,)\n"
     ]
    }
   ],
   "source": [
    "#importing packages\n",
    "import keras\n",
    "from keras.datasets import mnist\n",
    "from keras.models import Sequential\n",
    "from keras.layers import Dense,Dropout,Flatten\n",
    "from keras.layers import Conv2D,MaxPooling2D\n",
    "from keras import backend as k\n",
    "\n",
    "#the data, split between train and test sets\n",
    "(x_train, y_train), (x_test, y_test) = mnist.load_data()\n",
    "print(x_train.shape, y_train.shape)\n",
    "print(x_test.shape, y_test.shape)"
   ]
  },
  {
   "cell_type": "code",
   "execution_count": 2,
   "id": "9257352d",
   "metadata": {},
   "outputs": [
    {
     "name": "stdout",
     "output_type": "stream",
     "text": [
      "x_train shape:  (60000, 28, 28, 1)\n",
      "60000 train samples\n",
      "10000 test samples\n"
     ]
    }
   ],
   "source": [
    "num_classes = 10\n",
    "x_train = x_train.reshape(x_train.shape[0], 28, 28, 1)\n",
    "x_test = x_test.reshape(x_test.shape[0], 28, 28, 1)\n",
    "input_shape = (28, 28, 1)\n",
    "\n",
    "#convert class vectors to binary class matrices\n",
    "y_train = keras.utils.to_categorical(y_train, num_classes)\n",
    "y_test = keras.utils.to_categorical(y_test, num_classes)\n",
    "x_train = x_train.astype('float32')\n",
    "x_test = x_test.astype('float32')\n",
    "x_train = x_train/255\n",
    "x_test = x_test/255\n",
    "print('x_train shape: ', x_train.shape)\n",
    "print(x_train.shape[0], 'train samples')\n",
    "print(x_test.shape[0], 'test samples')"
   ]
  },
  {
   "cell_type": "code",
   "execution_count": 3,
   "id": "7224ccee",
   "metadata": {},
   "outputs": [],
   "source": [
    "batch_size = 128\n",
    "num_classes = 10\n",
    "epochs = 10\n",
    "model = Sequential()\n",
    "model.add(Conv2D(32, kernel_size=(3,3),activation='relu',input_shape=input_shape))\n",
    "model.add(Conv2D(64, (3,3), activation='relu'))\n",
    "model.add(MaxPooling2D(pool_size=(2,2)))\n",
    "model.add(Flatten())\n",
    "model.add(Dense(256, activation='relu'))\n",
    "model.add(Dropout(0.5))\n",
    "model.add(Dense(num_classes, activation='softmax'))\n",
    "model.compile(loss=keras.losses.categorical_crossentropy,optimizer=keras.optimizers.Adadelta(),metrics=['accuracy'])"
   ]
  },
  {
   "cell_type": "code",
   "execution_count": 4,
   "id": "fe2c9bef",
   "metadata": {},
   "outputs": [
    {
     "name": "stdout",
     "output_type": "stream",
     "text": [
      "Epoch 1/10\n",
      "469/469 [==============================] - 46s 97ms/step - loss: 2.2686 - accuracy: 0.1784 - val_loss: 2.2157 - val_accuracy: 0.4108\n",
      "Epoch 2/10\n",
      "469/469 [==============================] - 49s 104ms/step - loss: 2.1635 - accuracy: 0.4053 - val_loss: 2.0924 - val_accuracy: 0.6908\n",
      "Epoch 3/10\n",
      "469/469 [==============================] - 48s 103ms/step - loss: 2.0195 - accuracy: 0.5564 - val_loss: 1.9117 - val_accuracy: 0.7554\n",
      "Epoch 4/10\n",
      "469/469 [==============================] - 49s 104ms/step - loss: 1.8148 - accuracy: 0.6296 - val_loss: 1.6555 - val_accuracy: 0.7758\n",
      "Epoch 5/10\n",
      "469/469 [==============================] - 51s 108ms/step - loss: 1.5517 - accuracy: 0.6726 - val_loss: 1.3496 - val_accuracy: 0.7931\n",
      "Epoch 6/10\n",
      "469/469 [==============================] - 49s 105ms/step - loss: 1.2825 - accuracy: 0.7067 - val_loss: 1.0708 - val_accuracy: 0.8156\n",
      "Epoch 7/10\n",
      "469/469 [==============================] - 50s 106ms/step - loss: 1.0656 - accuracy: 0.7349 - val_loss: 0.8657 - val_accuracy: 0.8306\n",
      "Epoch 8/10\n",
      "469/469 [==============================] - 50s 106ms/step - loss: 0.9102 - accuracy: 0.7575 - val_loss: 0.7278 - val_accuracy: 0.8451\n",
      "Epoch 9/10\n",
      "469/469 [==============================] - 51s 108ms/step - loss: 0.8060 - accuracy: 0.7771 - val_loss: 0.6337 - val_accuracy: 0.8577\n",
      "Epoch 10/10\n",
      "469/469 [==============================] - 50s 107ms/step - loss: 0.7308 - accuracy: 0.7926 - val_loss: 0.5685 - val_accuracy: 0.8666\n",
      "the model has successfully trained\n"
     ]
    },
    {
     "name": "stderr",
     "output_type": "stream",
     "text": [
      "WARNING:absl:Found untraced functions such as _jit_compiled_convolution_op, _jit_compiled_convolution_op while saving (showing 2 of 2). These functions will not be directly callable after loading.\n"
     ]
    },
    {
     "name": "stdout",
     "output_type": "stream",
     "text": [
      "INFO:tensorflow:Assets written to: mnist.hs\\assets\n"
     ]
    },
    {
     "name": "stderr",
     "output_type": "stream",
     "text": [
      "INFO:tensorflow:Assets written to: mnist.hs\\assets\n"
     ]
    },
    {
     "name": "stdout",
     "output_type": "stream",
     "text": [
      "saving the model as mnist.hs\n"
     ]
    }
   ],
   "source": [
    "hist=model.fit(x_train,y_train,batch_size=batch_size,epochs=epochs,verbose=1,validation_data=(x_test,y_test))\n",
    "print(\"the model has successfully trained\")\n",
    "model.save('mnist.hs')\n",
    "print(\"saving the model as mnist.hs\")"
   ]
  },
  {
   "cell_type": "code",
   "execution_count": 5,
   "id": "6f1bc424",
   "metadata": {},
   "outputs": [
    {
     "name": "stdout",
     "output_type": "stream",
     "text": [
      "Test loss:  0.5685045123100281\n",
      "Test accuary:  0.866599977016449\n"
     ]
    }
   ],
   "source": [
    "score = model.evaluate(x_test, y_test, verbose=0)\n",
    "print('Test loss: ',score[0])\n",
    "print('Test accuary: ',score[1])"
   ]
  },
  {
   "cell_type": "code",
   "execution_count": 6,
   "id": "da32bf4d",
   "metadata": {},
   "outputs": [],
   "source": [
    "import tkinter\n",
    "from keras.models import load_model\n",
    "from tkinter import *\n",
    "import tkinter as tk\n",
    "import win32gui\n",
    "from PIL import ImageGrab, Image\n",
    "import numpy as np"
   ]
  },
  {
   "cell_type": "code",
   "execution_count": 8,
   "id": "d25ab896",
   "metadata": {},
   "outputs": [
    {
     "name": "stdout",
     "output_type": "stream",
     "text": [
      "1/1 [==============================] - 0s 53ms/step\n",
      "1/1 [==============================] - 0s 45ms/step\n",
      "1/1 [==============================] - 0s 32ms/step\n",
      "1/1 [==============================] - 0s 18ms/step\n",
      "1/1 [==============================] - 0s 21ms/step\n",
      "1/1 [==============================] - 0s 21ms/step\n",
      "1/1 [==============================] - 0s 17ms/step\n",
      "1/1 [==============================] - 0s 25ms/step\n",
      "1/1 [==============================] - 0s 20ms/step\n"
     ]
    }
   ],
   "source": [
    "model = load_model('mnist.hs')\n",
    "def predict_digit(img):\n",
    "  #resize image to 28x28 pixels\n",
    "  img = img.resize((28,28))\n",
    "  #convert rgb to grayscale\n",
    "  img = img.convert('L')\n",
    "  img =  np.array(img)\n",
    "  #reshaping to support our model input and normalizing\n",
    "  img = img.reshape(1, 28, 28, 1)\n",
    "  img = img/255.0\n",
    "  #predicting the class\n",
    "  res = model.predict([img])[0]\n",
    "  return np.argmax(res),max(res)\n",
    "class App(tk.Tk):\n",
    "  def __init__(self):\n",
    "    tk.Tk.__init__(self)\n",
    "    self.x = self.y = 0\n",
    "    #creating elements\n",
    "    self.canvas = tk.Canvas(self,width=300, height=300,bg = \"white\", cursor= \"cross\")\n",
    "    self.label = tk.Label(self, text=\"Thinking..\", font=(\"Helvetica\",48))\n",
    "    self.classify_btn = tk.Button(self, text = \"Recognize\", command = self.classify_handwriting)\n",
    "    self.button_clear = tk.Button(self, text = \"clear\", command = self.clear_all)\n",
    "    #Grid structure\n",
    "    self.canvas.grid(row=0, column=0, pady=2, sticky=W, )\n",
    "    self.label.grid(row=0, column=1, pady=2, padx=2)\n",
    "    self.classify_btn.grid(row=1, column=1, pady=2, padx=2)\n",
    "    self.button_clear.grid(row=1, column=0, pady=2)\n",
    "    #self.canvas.bind(\"<Motion>\", self.start_pos)\n",
    "    self.canvas.bind(\"<B1-Motion>\", self.draw_lines)\n",
    "  def clear_all(self):\n",
    "    self.canvas.delete(\"all\")\n",
    "  def classify_handwriting(self):\n",
    "    HWND = self.canvas.winfo_id() #get the handle of the canvas\n",
    "    rect = win32gui.GetWindowRect(HWND) #get the coordinate of the canvas\n",
    "    im = ImageGrab.grab(rect)\n",
    "    digit, acc = predict_digit(im)\n",
    "    self.label.configure(text= str(digit)+', '+str(int(acc*100))+'%')\n",
    "  def draw_lines(self, event):\n",
    "    self.x = event.x\n",
    "    self.y = event.y\n",
    "    r=8\n",
    "    self.canvas.create_oval(self.x-r,self.y-r,self.x+r, self.y+r)\n",
    "app = App()\n",
    "mainloop()"
   ]
  },
  {
   "cell_type": "code",
   "execution_count": null,
   "id": "5fc6480a",
   "metadata": {},
   "outputs": [],
   "source": []
  }
 ],
 "metadata": {
  "kernelspec": {
   "display_name": "Python 3 (ipykernel)",
   "language": "python",
   "name": "python3"
  },
  "language_info": {
   "codemirror_mode": {
    "name": "ipython",
    "version": 3
   },
   "file_extension": ".py",
   "mimetype": "text/x-python",
   "name": "python",
   "nbconvert_exporter": "python",
   "pygments_lexer": "ipython3",
   "version": "3.9.13"
  }
 },
 "nbformat": 4,
 "nbformat_minor": 5
}
